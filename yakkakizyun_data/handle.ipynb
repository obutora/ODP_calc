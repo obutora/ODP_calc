{
 "cells": [
  {
   "cell_type": "code",
   "execution_count": 5,
   "metadata": {},
   "outputs": [],
   "source": [
    "import pandas as pd\n",
    "import re"
   ]
  },
  {
   "cell_type": "code",
   "execution_count": 17,
   "metadata": {},
   "outputs": [],
   "source": [
    "# 01 : 内服薬\n",
    "# 03 : 外用薬\n",
    "\n",
    "naiDf = pd.read_excel('./tp20210218-01_01.xlsx', usecols=[1, 3, 7])\n",
    "gaiDf = pd.read_excel('./tp20210218-01_03.xlsx', usecols=[1, 3, 7])"
   ]
  },
  {
   "cell_type": "code",
   "execution_count": 18,
   "metadata": {},
   "outputs": [],
   "source": [
    "suuzi = re.compile(r'[０-９]+')\n",
    "\n",
    "# suuzi.split('１０ｍｇ１カプセル')[-1]\n",
    "# suuzi.split('１００ｍｇ１錠')[-1]\n",
    "# suuzi.split('１０％１ｇ')[-1]\n",
    "# suuzi.split('０．２５ｍｇ１錠')[-1]\n",
    "# suuzi.split('１％１ｍＬ')[-1]"
   ]
  },
  {
   "cell_type": "code",
   "execution_count": 19,
   "metadata": {},
   "outputs": [],
   "source": [
    "naiDf['規格'] = naiDf['規格'].apply(lambda x: suuzi.split(x)[-1])\n",
    "gaiDf['規格'] = gaiDf['規格'].apply(lambda x: suuzi.split(x)[-1])"
   ]
  },
  {
   "cell_type": "code",
   "execution_count": 22,
   "metadata": {},
   "outputs": [],
   "source": [
    "df = pd.concat([naiDf, gaiDf], axis=0)\n",
    "df"
   ]
  },
  {
   "cell_type": "code",
   "execution_count": null,
   "metadata": {},
   "outputs": [],
   "source": [
    "df.columns = ['yjCode', 'unit', 'name']"
   ]
  },
  {
   "cell_type": "code",
   "execution_count": 24,
   "metadata": {},
   "outputs": [],
   "source": [
    "df.to_json('output/output.json', orient='records', force_ascii=False)"
   ]
  },
  {
   "cell_type": "code",
   "execution_count": null,
   "metadata": {},
   "outputs": [],
   "source": []
  }
 ],
 "metadata": {
  "kernelspec": {
   "display_name": "base",
   "language": "python",
   "name": "python3"
  },
  "language_info": {
   "codemirror_mode": {
    "name": "ipython",
    "version": 3
   },
   "file_extension": ".py",
   "mimetype": "text/x-python",
   "name": "python",
   "nbconvert_exporter": "python",
   "pygments_lexer": "ipython3",
   "version": "3.9.12"
  },
  "orig_nbformat": 4,
  "vscode": {
   "interpreter": {
    "hash": "994ecacb4075bd95adfaa142acbc7b3660b9a05ed71c9ca8bb824fdbce95efd9"
   }
  }
 },
 "nbformat": 4,
 "nbformat_minor": 2
}
