{
 "cells": [
  {
   "cell_type": "code",
   "execution_count": null,
   "metadata": {},
   "outputs": [],
   "source": [
    "# HOTコードリスト\n",
    "\n",
    "# GS-1コードリスト\n",
    "# http://medhot.medd.jp/"
   ]
  },
  {
   "cell_type": "code",
   "execution_count": 1,
   "metadata": {},
   "outputs": [],
   "source": [
    "import pandas as pd\n",
    "import re"
   ]
  },
  {
   "cell_type": "code",
   "execution_count": 8,
   "metadata": {},
   "outputs": [
    {
     "data": {
      "text/html": [
       "<div>\n",
       "<style scoped>\n",
       "    .dataframe tbody tr th:only-of-type {\n",
       "        vertical-align: middle;\n",
       "    }\n",
       "\n",
       "    .dataframe tbody tr th {\n",
       "        vertical-align: top;\n",
       "    }\n",
       "\n",
       "    .dataframe thead th {\n",
       "        text-align: right;\n",
       "    }\n",
       "</style>\n",
       "<table border=\"1\" class=\"dataframe\">\n",
       "  <thead>\n",
       "    <tr style=\"text-align: right;\">\n",
       "      <th></th>\n",
       "      <th>販売名</th>\n",
       "      <th>包装単位数単位</th>\n",
       "      <th>販売包装単位コード</th>\n",
       "    </tr>\n",
       "  </thead>\n",
       "  <tbody>\n",
       "    <tr>\n",
       "      <th>0</th>\n",
       "      <td>ジャクスタピッドカプセル１０ｍｇ</td>\n",
       "      <td>カプセル</td>\n",
       "      <td>14987880000203</td>\n",
       "    </tr>\n",
       "    <tr>\n",
       "      <th>1</th>\n",
       "      <td>ジャクスタピッドカプセル２０ｍｇ</td>\n",
       "      <td>カプセル</td>\n",
       "      <td>14987880000302</td>\n",
       "    </tr>\n",
       "    <tr>\n",
       "      <th>2</th>\n",
       "      <td>ジャクスタピッドカプセル５ｍｇ</td>\n",
       "      <td>カプセル</td>\n",
       "      <td>14987880000104</td>\n",
       "    </tr>\n",
       "    <tr>\n",
       "      <th>3</th>\n",
       "      <td>アムヴトラ皮下注２５ｍｇシリンジ</td>\n",
       "      <td>筒</td>\n",
       "      <td>14987934409693</td>\n",
       "    </tr>\n",
       "    <tr>\n",
       "      <th>4</th>\n",
       "      <td>オンパットロ点滴静注２ｍｇ／ｍＬ</td>\n",
       "      <td>瓶</td>\n",
       "      <td>14987934421275</td>\n",
       "    </tr>\n",
       "    <tr>\n",
       "      <th>...</th>\n",
       "      <td>...</td>\n",
       "      <td>...</td>\n",
       "      <td>...</td>\n",
       "    </tr>\n",
       "    <tr>\n",
       "      <th>59918</th>\n",
       "      <td>ウチダのマオウＭ</td>\n",
       "      <td>ｇ</td>\n",
       "      <td>14987359857505</td>\n",
       "    </tr>\n",
       "    <tr>\n",
       "      <th>59919</th>\n",
       "      <td>アクリノール消毒液０．１％「東豊」</td>\n",
       "      <td>ｍＬ</td>\n",
       "      <td>14987429061252</td>\n",
       "    </tr>\n",
       "    <tr>\n",
       "      <th>59921</th>\n",
       "      <td>モルヒネ塩酸塩注射液２００ｍｇ「シオノギ」</td>\n",
       "      <td>管</td>\n",
       "      <td>14987087043034</td>\n",
       "    </tr>\n",
       "    <tr>\n",
       "      <th>59922</th>\n",
       "      <td>ナルサス錠２ｍｇ</td>\n",
       "      <td>錠</td>\n",
       "      <td>14987081520005</td>\n",
       "    </tr>\n",
       "    <tr>\n",
       "      <th>59923</th>\n",
       "      <td>ナルサス錠２ｍｇ</td>\n",
       "      <td>錠</td>\n",
       "      <td>14987081520050</td>\n",
       "    </tr>\n",
       "  </tbody>\n",
       "</table>\n",
       "<p>54884 rows × 3 columns</p>\n",
       "</div>"
      ],
      "text/plain": [
       "                         販売名 包装単位数単位       販売包装単位コード\n",
       "0           ジャクスタピッドカプセル１０ｍｇ    カプセル  14987880000203\n",
       "1           ジャクスタピッドカプセル２０ｍｇ    カプセル  14987880000302\n",
       "2            ジャクスタピッドカプセル５ｍｇ    カプセル  14987880000104\n",
       "3           アムヴトラ皮下注２５ｍｇシリンジ       筒  14987934409693\n",
       "4           オンパットロ点滴静注２ｍｇ／ｍＬ       瓶  14987934421275\n",
       "...                      ...     ...             ...\n",
       "59918               ウチダのマオウＭ       ｇ  14987359857505\n",
       "59919      アクリノール消毒液０．１％「東豊」      ｍＬ  14987429061252\n",
       "59921  モルヒネ塩酸塩注射液２００ｍｇ「シオノギ」       管  14987087043034\n",
       "59922               ナルサス錠２ｍｇ       錠  14987081520005\n",
       "59923               ナルサス錠２ｍｇ       錠  14987081520050\n",
       "\n",
       "[54884 rows x 3 columns]"
      ]
     },
     "execution_count": 8,
     "metadata": {},
     "output_type": "execute_result"
    }
   ],
   "source": [
    "# 3: name, 7:収載・非収載, 24: unit, 32:gs-1\n",
    "df = pd.read_csv('./A_20230131_2.csv', encoding='cp932', usecols=[3, 7, 24, 32])\n",
    "\n",
    "# 非収載は除外。その後列は不要なので削除\n",
    "df = df[df['告示分類'] != '非収載']\n",
    "df = df.drop('告示分類', axis=1)\n",
    "df.columns = ['name', 'unit', 'gs1CodeList']\n",
    "df"
   ]
  },
  {
   "cell_type": "code",
   "execution_count": 17,
   "metadata": {},
   "outputs": [],
   "source": [
    "# 01 : 内服薬\n",
    "# 03 : 外用薬\n",
    "# naiDf = pd.read_excel('./tp20210218-01_01.xlsx', usecols=[1, 3, 7])\n",
    "# gaiDf = pd.read_excel('./tp20210218-01_03.xlsx', usecols=[1, 3, 7])"
   ]
  },
  {
   "cell_type": "code",
   "execution_count": 18,
   "metadata": {},
   "outputs": [],
   "source": [
    "suuzi = re.compile(r'[０-９]+')\n",
    "\n",
    "# suuzi.split('１０ｍｇ１カプセル')[-1]\n",
    "# suuzi.split('１００ｍｇ１錠')[-1]\n",
    "# suuzi.split('１０％１ｇ')[-1]\n",
    "# suuzi.split('０．２５ｍｇ１錠')[-1]\n",
    "# suuzi.split('１％１ｍＬ')[-1]"
   ]
  },
  {
   "cell_type": "code",
   "execution_count": 19,
   "metadata": {},
   "outputs": [],
   "source": [
    "naiDf['規格'] = naiDf['規格'].apply(lambda x: suuzi.split(x)[-1])\n",
    "gaiDf['規格'] = gaiDf['規格'].apply(lambda x: suuzi.split(x)[-1])"
   ]
  },
  {
   "cell_type": "code",
   "execution_count": 22,
   "metadata": {},
   "outputs": [],
   "source": [
    "df = pd.concat([naiDf, gaiDf], axis=0)\n",
    "df"
   ]
  },
  {
   "cell_type": "code",
   "execution_count": null,
   "metadata": {},
   "outputs": [],
   "source": [
    "df.columns = ['yjCode', 'unit', 'name']"
   ]
  },
  {
   "cell_type": "code",
   "execution_count": 24,
   "metadata": {},
   "outputs": [],
   "source": [
    "df.to_json('output/output.json', orient='records', force_ascii=False)"
   ]
  },
  {
   "cell_type": "code",
   "execution_count": null,
   "metadata": {},
   "outputs": [],
   "source": []
  }
 ],
 "metadata": {
  "kernelspec": {
   "display_name": "base",
   "language": "python",
   "name": "python3"
  },
  "language_info": {
   "codemirror_mode": {
    "name": "ipython",
    "version": 3
   },
   "file_extension": ".py",
   "mimetype": "text/x-python",
   "name": "python",
   "nbconvert_exporter": "python",
   "pygments_lexer": "ipython3",
   "version": "3.9.12"
  },
  "orig_nbformat": 4,
  "vscode": {
   "interpreter": {
    "hash": "994ecacb4075bd95adfaa142acbc7b3660b9a05ed71c9ca8bb824fdbce95efd9"
   }
  }
 },
 "nbformat": 4,
 "nbformat_minor": 2
}
